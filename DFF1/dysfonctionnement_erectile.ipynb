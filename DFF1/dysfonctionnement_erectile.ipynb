{
 "cells": [
  {
   "cell_type": "markdown",
   "metadata": {},
   "source": [
    "## DFF1 - 1/5 Dysfonctionnement éréctile\n",
    "\n",
    "Auteur : Florian Gauthier\n",
    "\n",
    "Date: 20/12/2016\n",
    "\n",
    "Data: https://www.data.gouv.fr/fr/datasets/etude-sur-la-consommation-de-traitements-contre-la-dysfonction-erectile/"
   ]
  },
  {
   "cell_type": "code",
   "execution_count": 1,
   "metadata": {
    "collapsed": false
   },
   "outputs": [],
   "source": [
    "import pandas as pd\n",
    "from matplotlib import pyplot as plt\n",
    "\n",
    "%matplotlib inline"
   ]
  },
  {
   "cell_type": "markdown",
   "metadata": {},
   "source": [
    "## Lecture des données"
   ]
  },
  {
   "cell_type": "code",
   "execution_count": 2,
   "metadata": {
    "collapsed": false
   },
   "outputs": [],
   "source": [
    "DysErec_dept = pd.read_excel(\n",
    "    io=\"../DATA/OpenHealth_IndiceConsommationARSparDPTDysfonctionErectile_YA.xls\",\n",
    "    skiprows=6,\n",
    "    parse_cols=4)\n",
    "DysErec_reg = pd.read_excel(\n",
    "    io=\"../DATA/OpenHealth_IndiceConsommationARSparDPTDysfonctionErectile_YA.xls\",\n",
    "    skiprows=6,\n",
    "    parse_cols=\"F:H\")"
   ]
  },
  {
   "cell_type": "markdown",
   "metadata": {},
   "source": [
    "# Indice de consommation de traitement contre le dysfonctionnement éréctile\n",
    "\n",
    "Indice créé par OpenHealth afin de comparer la consommation de traitement contre le dysfonctionnement éréctile par région & département."
   ]
  },
  {
   "cell_type": "markdown",
   "metadata": {},
   "source": [
    "## Classement par région"
   ]
  },
  {
   "cell_type": "code",
   "execution_count": 3,
   "metadata": {
    "collapsed": false
   },
   "outputs": [
    {
     "data": {
      "text/html": [
       "<div style=\"max-height:1000px;max-width:1500px;overflow:auto;\">\n",
       "<table border=\"1\" class=\"dataframe\">\n",
       "  <thead>\n",
       "    <tr style=\"text-align: right;\">\n",
       "      <th></th>\n",
       "      <th>NOM_REGION</th>\n",
       "      <th>DDD_DysErec2013</th>\n",
       "      <th>CLASSEMENT REGION\n",
       "Ordre Décroissant</th>\n",
       "    </tr>\n",
       "  </thead>\n",
       "  <tbody>\n",
       "    <tr>\n",
       "      <th>0</th>\n",
       "      <td>  CORSE</td>\n",
       "      <td> 220.316746</td>\n",
       "      <td> 1</td>\n",
       "    </tr>\n",
       "    <tr>\n",
       "      <th>1</th>\n",
       "      <td> ALSACE</td>\n",
       "      <td> 204.230174</td>\n",
       "      <td> 2</td>\n",
       "    </tr>\n",
       "  </tbody>\n",
       "</table>\n",
       "</div>"
      ],
      "text/plain": [
       "  NOM_REGION  DDD_DysErec2013  CLASSEMENT REGION\\nOrdre Décroissant\n",
       "0      CORSE       220.316746                                     1\n",
       "1     ALSACE       204.230174                                     2"
      ]
     },
     "execution_count": 3,
     "metadata": {},
     "output_type": "execute_result"
    }
   ],
   "source": [
    "DysErec_reg.head(2)"
   ]
  },
  {
   "cell_type": "code",
   "execution_count": 4,
   "metadata": {
    "collapsed": false
   },
   "outputs": [
    {
     "data": {
      "image/png": "[encoded data removed]",
      "text/plain": [
       "<matplotlib.figure.Figure at 0x111ce7cc0>"
      ]
     },
     "metadata": {},
     "output_type": "display_data"
    }
   ],
   "source": [
    "DysErec_reg.iloc[:10].plot(\n",
    "    kind='barh',\n",
    "    y=\"DDD_DysErec2013\",\n",
    "    x='NOM_REGION',\n",
    "    color='red',\n",
    "    alpha=0.8,\n",
    "    figsize=(8, 4),\n",
    "    title=\"TOP 10 des régions\")\n",
    "plt.gca().invert_yaxis()"
   ]
  },
  {
   "cell_type": "markdown",
   "metadata": {},
   "source": [
    "## Classement par département"
   ]
  },
  {
   "cell_type": "code",
   "execution_count": 5,
   "metadata": {
    "collapsed": false
   },
   "outputs": [
    {
     "data": {
      "text/html": [
       "<div style=\"max-height:1000px;max-width:1500px;overflow:auto;\">\n",
       "<table border=\"1\" class=\"dataframe\">\n",
       "  <thead>\n",
       "    <tr style=\"text-align: right;\">\n",
       "      <th></th>\n",
       "      <th>CODE_DEPT</th>\n",
       "      <th>NOM_DEPT</th>\n",
       "      <th>DDD_DysErec2013</th>\n",
       "      <th>CLASSEMENT DPT  \n",
       "Ordre Décroissant</th>\n",
       "      <th>Unnamed: 4</th>\n",
       "    </tr>\n",
       "  </thead>\n",
       "  <tbody>\n",
       "    <tr>\n",
       "      <th>0</th>\n",
       "      <td> 75</td>\n",
       "      <td>   PARIS</td>\n",
       "      <td> 295.863327</td>\n",
       "      <td> 1</td>\n",
       "      <td>NaN</td>\n",
       "    </tr>\n",
       "    <tr>\n",
       "      <th>1</th>\n",
       "      <td> 57</td>\n",
       "      <td> MOSELLE</td>\n",
       "      <td> 258.853941</td>\n",
       "      <td> 2</td>\n",
       "      <td>NaN</td>\n",
       "    </tr>\n",
       "  </tbody>\n",
       "</table>\n",
       "</div>"
      ],
      "text/plain": [
       "  CODE_DEPT NOM_DEPT  DDD_DysErec2013  CLASSEMENT DPT  \\nOrdre Décroissant  \\\n",
       "0        75    PARIS       295.863327                                    1   \n",
       "1        57  MOSELLE       258.853941                                    2   \n",
       "\n",
       "   Unnamed: 4  \n",
       "0         NaN  \n",
       "1         NaN  "
      ]
     },
     "execution_count": 5,
     "metadata": {},
     "output_type": "execute_result"
    }
   ],
   "source": [
    "DysErec_dept.head(2)"
   ]
  },
  {
   "cell_type": "code",
   "execution_count": 6,
   "metadata": {
    "collapsed": false
   },
   "outputs": [
    {
     "data": {
      "image/png": "[encoded data removed]",
      "text/plain": [
       "<matplotlib.figure.Figure at 0x111ce7908>"
      ]
     },
     "metadata": {},
     "output_type": "display_data"
    }
   ],
   "source": [
    "DysErec_dept.iloc[:10].plot(\n",
    "    kind='barh',\n",
    "    y=\"DDD_DysErec2013\",\n",
    "    x='NOM_DEPT',\n",
    "    color='blue',\n",
    "    alpha=0.8,\n",
    "    figsize=(8, 4),\n",
    "    title=\"TOP 10 des départements\")\n",
    "plt.gca().invert_yaxis()"
   ]
  },
  {
   "cell_type": "markdown",
   "metadata": {},
   "source": [
    "## Conclusions\n",
    "\n",
    "La région championne de la consommation de traitements contre le dysfonctionnement éréctile sont.... Les Corses ! \n",
    "Chacun y trouvera son interprétation.\n",
    "\n",
    "Quant au département... perso je déménage.\n"
   ]
  }
 ],
 "metadata": {
  "kernelspec": {
   "display_name": "Python 3",
   "language": "python",
   "name": "python3"
  },
  "language_info": {
   "codemirror_mode": {
    "name": "ipython",
    "version": 3
   },
   "file_extension": ".py",
   "mimetype": "text/x-python",
   "name": "python",
   "nbconvert_exporter": "python",
   "pygments_lexer": "ipython3",
   "version": "3.4.4"
  }
 },
 "nbformat": 4,
 "nbformat_minor": 0
}
