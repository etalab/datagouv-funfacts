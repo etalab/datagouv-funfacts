{
 "cells": [
  {
   "cell_type": "markdown",
   "metadata": {},
   "source": [
    "## DFF1 - 2/5 Taux de réussite au BAC\n",
    "\n",
    "Auteur : Florian Gauthier\n",
    "\n",
    "Date: 20/12/2016\n",
    "\n",
    "Data: https://www.data.gouv.fr/fr/datasets/indicateurs-de-resultat-des-lycees-denseignement-general-et-technologique/"
   ]
  },
  {
   "cell_type": "code",
   "execution_count": 1,
   "metadata": {
    "collapsed": true
   },
   "outputs": [],
   "source": [
    "import numpy as np\n",
    "import pandas as pd\n",
    "from matplotlib import pyplot as plt\n",
    "from scipy.stats import pearsonr\n",
    "%matplotlib inline"
   ]
  },
  {
   "cell_type": "markdown",
   "metadata": {},
   "source": [
    "## Lecture des données"
   ]
  },
  {
   "cell_type": "code",
   "execution_count": 2,
   "metadata": {
    "collapsed": false
   },
   "outputs": [],
   "source": [
    "lycee2015 = pd.read_csv(\n",
    "    filepath_or_buffer='../../DATA/MEN-DEPP-indicateurs-de-resultats-des-LEGT-2015.csv',\n",
    "    encoding='latin-1',\n",
    "    sep=';')"
   ]
  },
  {
   "cell_type": "code",
   "execution_count": 3,
   "metadata": {
    "collapsed": false
   },
   "outputs": [
    {
     "data": {
      "text/html": [
       "<div>\n",
       "<table border=\"1\" class=\"dataframe\">\n",
       "  <thead>\n",
       "    <tr style=\"text-align: right;\">\n",
       "      <th></th>\n",
       "      <th>0</th>\n",
       "      <th>1</th>\n",
       "    </tr>\n",
       "  </thead>\n",
       "  <tbody>\n",
       "    <tr>\n",
       "      <th>Académie</th>\n",
       "      <td>AIX-MARSEILLE</td>\n",
       "      <td>AIX-MARSEILLE</td>\n",
       "    </tr>\n",
       "    <tr>\n",
       "      <th>Département</th>\n",
       "      <td>ALPES DE HTE PROVENCE</td>\n",
       "      <td>ALPES DE HTE PROVENCE</td>\n",
       "    </tr>\n",
       "    <tr>\n",
       "      <th>Ville</th>\n",
       "      <td>BARCELONNETTE</td>\n",
       "      <td>DIGNE LES BAINS</td>\n",
       "    </tr>\n",
       "    <tr>\n",
       "      <th>Commune</th>\n",
       "      <td>04019</td>\n",
       "      <td>04070</td>\n",
       "    </tr>\n",
       "    <tr>\n",
       "      <th>Etablissement</th>\n",
       "      <td>LYCEE ANDRE HONNORAT (GENERAL ET TECHNO.)</td>\n",
       "      <td>LYCEE ALEXANDRA DAVID NEEL</td>\n",
       "    </tr>\n",
       "    <tr>\n",
       "      <th>Code Etablissement</th>\n",
       "      <td>0040003G</td>\n",
       "      <td>0040027H</td>\n",
       "    </tr>\n",
       "    <tr>\n",
       "      <th>Secteur Public=PU Privé=PR</th>\n",
       "      <td>PU</td>\n",
       "      <td>PU</td>\n",
       "    </tr>\n",
       "    <tr>\n",
       "      <th>Effectif Présents série L</th>\n",
       "      <td>7</td>\n",
       "      <td>40</td>\n",
       "    </tr>\n",
       "    <tr>\n",
       "      <th>Effectif Présents série ES</th>\n",
       "      <td>14</td>\n",
       "      <td>33</td>\n",
       "    </tr>\n",
       "    <tr>\n",
       "      <th>Effectif Présents série S</th>\n",
       "      <td>20</td>\n",
       "      <td>39</td>\n",
       "    </tr>\n",
       "    <tr>\n",
       "      <th>Effectif Présents série STMG</th>\n",
       "      <td></td>\n",
       "      <td>23</td>\n",
       "    </tr>\n",
       "    <tr>\n",
       "      <th>Effectif Présents série STI2D</th>\n",
       "      <td></td>\n",
       "      <td></td>\n",
       "    </tr>\n",
       "    <tr>\n",
       "      <th>Effectif Présents série STD2A</th>\n",
       "      <td></td>\n",
       "      <td></td>\n",
       "    </tr>\n",
       "    <tr>\n",
       "      <th>Effectif Présents série STL</th>\n",
       "      <td></td>\n",
       "      <td></td>\n",
       "    </tr>\n",
       "    <tr>\n",
       "      <th>Effectif Présents série ST2S</th>\n",
       "      <td></td>\n",
       "      <td>37</td>\n",
       "    </tr>\n",
       "    <tr>\n",
       "      <th>Effectif Présents série Musiq Danse</th>\n",
       "      <td></td>\n",
       "      <td></td>\n",
       "    </tr>\n",
       "    <tr>\n",
       "      <th>Effectif Présents série Hotellerie</th>\n",
       "      <td></td>\n",
       "      <td></td>\n",
       "    </tr>\n",
       "    <tr>\n",
       "      <th>Effectif Présents Total séries</th>\n",
       "      <td>41</td>\n",
       "      <td>172</td>\n",
       "    </tr>\n",
       "    <tr>\n",
       "      <th>Taux Brut de Réussite série L</th>\n",
       "      <td>100</td>\n",
       "      <td>100</td>\n",
       "    </tr>\n",
       "    <tr>\n",
       "      <th>Taux Brut de Réussite série ES</th>\n",
       "      <td>79</td>\n",
       "      <td>94</td>\n",
       "    </tr>\n",
       "    <tr>\n",
       "      <th>Taux Brut de Réussite série S</th>\n",
       "      <td>100</td>\n",
       "      <td>85</td>\n",
       "    </tr>\n",
       "    <tr>\n",
       "      <th>Taux Brut de Réussite série STMG</th>\n",
       "      <td>.</td>\n",
       "      <td>100</td>\n",
       "    </tr>\n",
       "    <tr>\n",
       "      <th>Taux Brut de Réussite série STI2D</th>\n",
       "      <td>.</td>\n",
       "      <td>.</td>\n",
       "    </tr>\n",
       "    <tr>\n",
       "      <th>Taux Brut de Réussite série STD2A</th>\n",
       "      <td>.</td>\n",
       "      <td>.</td>\n",
       "    </tr>\n",
       "    <tr>\n",
       "      <th>Taux Brut de Réussite série STL</th>\n",
       "      <td>.</td>\n",
       "      <td>.</td>\n",
       "    </tr>\n",
       "    <tr>\n",
       "      <th>Taux Brut de Réussite série ST2S</th>\n",
       "      <td>.</td>\n",
       "      <td>89</td>\n",
       "    </tr>\n",
       "    <tr>\n",
       "      <th>Taux Brut de Réussite série Musiq Danse</th>\n",
       "      <td>.</td>\n",
       "      <td>.</td>\n",
       "    </tr>\n",
       "    <tr>\n",
       "      <th>Taux Brut de Réussite série Hotellerie</th>\n",
       "      <td>.</td>\n",
       "      <td>.</td>\n",
       "    </tr>\n",
       "    <tr>\n",
       "      <th>Taux Brut de Réussite Total séries</th>\n",
       "      <td>93</td>\n",
       "      <td>93</td>\n",
       "    </tr>\n",
       "    <tr>\n",
       "      <th>Taux Réussite Attendu série L</th>\n",
       "      <td>ND</td>\n",
       "      <td>92</td>\n",
       "    </tr>\n",
       "    <tr>\n",
       "      <th>Taux Réussite Attendu série ES</th>\n",
       "      <td>83</td>\n",
       "      <td>95</td>\n",
       "    </tr>\n",
       "    <tr>\n",
       "      <th>Taux Réussite Attendu série S</th>\n",
       "      <td>92</td>\n",
       "      <td>85</td>\n",
       "    </tr>\n",
       "    <tr>\n",
       "      <th>Taux Réussite Attendu série STMG</th>\n",
       "      <td></td>\n",
       "      <td>94</td>\n",
       "    </tr>\n",
       "    <tr>\n",
       "      <th>Taux Réussite Attendu série STI2D</th>\n",
       "      <td></td>\n",
       "      <td></td>\n",
       "    </tr>\n",
       "    <tr>\n",
       "      <th>Taux Réussite Attendu série STD2A</th>\n",
       "      <td></td>\n",
       "      <td></td>\n",
       "    </tr>\n",
       "    <tr>\n",
       "      <th>Taux Réussite Attendu série STL</th>\n",
       "      <td></td>\n",
       "      <td></td>\n",
       "    </tr>\n",
       "    <tr>\n",
       "      <th>Taux Réussite Attendu série ST2S</th>\n",
       "      <td></td>\n",
       "      <td>94</td>\n",
       "    </tr>\n",
       "    <tr>\n",
       "      <th>Taux Réussite Attendu série Musiq Danse</th>\n",
       "      <td></td>\n",
       "      <td></td>\n",
       "    </tr>\n",
       "    <tr>\n",
       "      <th>Taux Réussite Attendu série Hotellerie</th>\n",
       "      <td></td>\n",
       "      <td></td>\n",
       "    </tr>\n",
       "    <tr>\n",
       "      <th>Taux Réussite Attendu toutes séries</th>\n",
       "      <td>88</td>\n",
       "      <td>91</td>\n",
       "    </tr>\n",
       "    <tr>\n",
       "      <th>Sructure pédagogique en 7 groupes</th>\n",
       "      <td>A</td>\n",
       "      <td>C</td>\n",
       "    </tr>\n",
       "    <tr>\n",
       "      <th>Effectif de seconde</th>\n",
       "      <td>72</td>\n",
       "      <td>254</td>\n",
       "    </tr>\n",
       "    <tr>\n",
       "      <th>Effectif de première</th>\n",
       "      <td>65</td>\n",
       "      <td>227</td>\n",
       "    </tr>\n",
       "    <tr>\n",
       "      <th>Effectif de terminale</th>\n",
       "      <td>52</td>\n",
       "      <td>232</td>\n",
       "    </tr>\n",
       "    <tr>\n",
       "      <th>Taux accès Brut seconde-BAC</th>\n",
       "      <td>69</td>\n",
       "      <td>82</td>\n",
       "    </tr>\n",
       "    <tr>\n",
       "      <th>Taux accès Attendu seconde-BAC</th>\n",
       "      <td>65</td>\n",
       "      <td>77</td>\n",
       "    </tr>\n",
       "    <tr>\n",
       "      <th>Taux accès Brut première-BAC</th>\n",
       "      <td>86</td>\n",
       "      <td>92</td>\n",
       "    </tr>\n",
       "    <tr>\n",
       "      <th>Taux accès Attendu première-BAC</th>\n",
       "      <td>87</td>\n",
       "      <td>90</td>\n",
       "    </tr>\n",
       "    <tr>\n",
       "      <th>Taux accès Brut terminale-BAC</th>\n",
       "      <td>95</td>\n",
       "      <td>95</td>\n",
       "    </tr>\n",
       "    <tr>\n",
       "      <th>Taux accès Attendu terminale-BAC</th>\n",
       "      <td>93</td>\n",
       "      <td>94</td>\n",
       "    </tr>\n",
       "  </tbody>\n",
       "</table>\n",
       "</div>"
      ],
      "text/plain": [
       "                                                                                 0  \\\n",
       "Académie                                                             AIX-MARSEILLE   \n",
       "Département                                                  ALPES DE HTE PROVENCE   \n",
       "Ville                                                                BARCELONNETTE   \n",
       "Commune                                                                      04019   \n",
       "Etablissement                            LYCEE ANDRE HONNORAT (GENERAL ET TECHNO.)   \n",
       "Code Etablissement                                                        0040003G   \n",
       "Secteur Public=PU Privé=PR                                                      PU   \n",
       "Effectif Présents série L                                                        7   \n",
       "Effectif Présents série ES                                                      14   \n",
       "Effectif Présents série S                                                       20   \n",
       "Effectif Présents série STMG                                                         \n",
       "Effectif Présents série STI2D                                                        \n",
       "Effectif Présents série STD2A                                                        \n",
       "Effectif Présents série STL                                                          \n",
       "Effectif Présents série ST2S                                                         \n",
       "Effectif Présents série Musiq Danse                                                  \n",
       "Effectif Présents série Hotellerie                                                   \n",
       "Effectif Présents Total séries                                                  41   \n",
       "Taux Brut de Réussite série L                                                  100   \n",
       "Taux Brut de Réussite série ES                                                  79   \n",
       "Taux Brut de Réussite série S                                                  100   \n",
       "Taux Brut de Réussite série STMG                                                 .   \n",
       "Taux Brut de Réussite série STI2D                                                .   \n",
       "Taux Brut de Réussite série STD2A                                                .   \n",
       "Taux Brut de Réussite série STL                                                  .   \n",
       "Taux Brut de Réussite série ST2S                                                 .   \n",
       "Taux Brut de Réussite série Musiq Danse                                          .   \n",
       "Taux Brut de Réussite série Hotellerie                                           .   \n",
       "Taux Brut de Réussite Total séries                                              93   \n",
       "Taux Réussite Attendu série L                                                   ND   \n",
       "Taux Réussite Attendu série ES                                                  83   \n",
       "Taux Réussite Attendu série S                                                   92   \n",
       "Taux Réussite Attendu série STMG                                                     \n",
       "Taux Réussite Attendu série STI2D                                                    \n",
       "Taux Réussite Attendu série STD2A                                                    \n",
       "Taux Réussite Attendu série STL                                                      \n",
       "Taux Réussite Attendu série ST2S                                                     \n",
       "Taux Réussite Attendu série Musiq Danse                                              \n",
       "Taux Réussite Attendu série Hotellerie                                               \n",
       "Taux Réussite Attendu toutes séries                                             88   \n",
       "Sructure pédagogique en 7 groupes                                                A   \n",
       "Effectif de seconde                                                             72   \n",
       "Effectif de première                                                            65   \n",
       "Effectif de terminale                                                           52   \n",
       "Taux accès Brut seconde-BAC                                                     69   \n",
       "Taux accès Attendu seconde-BAC                                                  65   \n",
       "Taux accès Brut première-BAC                                                    86   \n",
       "Taux accès Attendu première-BAC                                                 87   \n",
       "Taux accès Brut terminale-BAC                                                   95   \n",
       "Taux accès Attendu terminale-BAC                                                93   \n",
       "\n",
       "                                                                  1  \n",
       "Académie                                              AIX-MARSEILLE  \n",
       "Département                                   ALPES DE HTE PROVENCE  \n",
       "Ville                                               DIGNE LES BAINS  \n",
       "Commune                                                       04070  \n",
       "Etablissement                            LYCEE ALEXANDRA DAVID NEEL  \n",
       "Code Etablissement                                         0040027H  \n",
       "Secteur Public=PU Privé=PR                                       PU  \n",
       "Effectif Présents série L                                        40  \n",
       "Effectif Présents série ES                                       33  \n",
       "Effectif Présents série S                                        39  \n",
       "Effectif Présents série STMG                                     23  \n",
       "Effectif Présents série STI2D                                        \n",
       "Effectif Présents série STD2A                                        \n",
       "Effectif Présents série STL                                          \n",
       "Effectif Présents série ST2S                                     37  \n",
       "Effectif Présents série Musiq Danse                                  \n",
       "Effectif Présents série Hotellerie                                   \n",
       "Effectif Présents Total séries                                  172  \n",
       "Taux Brut de Réussite série L                                   100  \n",
       "Taux Brut de Réussite série ES                                   94  \n",
       "Taux Brut de Réussite série S                                    85  \n",
       "Taux Brut de Réussite série STMG                                100  \n",
       "Taux Brut de Réussite série STI2D                                 .  \n",
       "Taux Brut de Réussite série STD2A                                 .  \n",
       "Taux Brut de Réussite série STL                                   .  \n",
       "Taux Brut de Réussite série ST2S                                 89  \n",
       "Taux Brut de Réussite série Musiq Danse                           .  \n",
       "Taux Brut de Réussite série Hotellerie                            .  \n",
       "Taux Brut de Réussite Total séries                               93  \n",
       "Taux Réussite Attendu série L                                    92  \n",
       "Taux Réussite Attendu série ES                                   95  \n",
       "Taux Réussite Attendu série S                                    85  \n",
       "Taux Réussite Attendu série STMG                                 94  \n",
       "Taux Réussite Attendu série STI2D                                    \n",
       "Taux Réussite Attendu série STD2A                                    \n",
       "Taux Réussite Attendu série STL                                      \n",
       "Taux Réussite Attendu série ST2S                                 94  \n",
       "Taux Réussite Attendu série Musiq Danse                              \n",
       "Taux Réussite Attendu série Hotellerie                               \n",
       "Taux Réussite Attendu toutes séries                              91  \n",
       "Sructure pédagogique en 7 groupes                                 C  \n",
       "Effectif de seconde                                             254  \n",
       "Effectif de première                                            227  \n",
       "Effectif de terminale                                           232  \n",
       "Taux accès Brut seconde-BAC                                      82  \n",
       "Taux accès Attendu seconde-BAC                                   77  \n",
       "Taux accès Brut première-BAC                                     92  \n",
       "Taux accès Attendu première-BAC                                  90  \n",
       "Taux accès Brut terminale-BAC                                    95  \n",
       "Taux accès Attendu terminale-BAC                                 94  "
      ]
     },
     "execution_count": 3,
     "metadata": {},
     "output_type": "execute_result"
    }
   ],
   "source": [
    "lycee2015.head(2).transpose()"
   ]
  },
  {
   "cell_type": "markdown",
   "metadata": {},
   "source": [
    "\n",
    "## Stats par département"
   ]
  },
  {
   "cell_type": "code",
   "execution_count": 4,
   "metadata": {
    "collapsed": false
   },
   "outputs": [
    {
     "name": "stderr",
     "output_type": "stream",
     "text": [
      "/Users/Stan/anaconda/lib/python3.4/site-packages/ipykernel/__main__.py:2: FutureWarning: order is deprecated, use sort_values(...)\n",
      "  from ipykernel import kernelapp as app\n"
     ]
    },
    {
     "data": {
      "image/png": "[encoded data removed]",
      "text/plain": [
       "<matplotlib.figure.Figure at 0x1134f8278>"
      ]
     },
     "metadata": {},
     "output_type": "display_data"
    }
   ],
   "source": [
    "plt.figure(figsize=(10, 6))\n",
    "lycee2015.groupby('Département')['Taux Brut de Réussite Total séries'].mean().order(ascending=False).head(20).plot(kind='barh')\n",
    "plt.gca().invert_yaxis()\n"
   ]
  },
  {
   "cell_type": "markdown",
   "metadata": {},
   "source": [
    "\n",
    "## Stats par acédémie"
   ]
  },
  {
   "cell_type": "code",
   "execution_count": 5,
   "metadata": {
    "collapsed": false
   },
   "outputs": [
    {
     "name": "stderr",
     "output_type": "stream",
     "text": [
      "/Users/Stan/anaconda/lib/python3.4/site-packages/ipykernel/__main__.py:2: FutureWarning: order is deprecated, use sort_values(...)\n",
      "  from ipykernel import kernelapp as app\n"
     ]
    },
    {
     "data": {
      "image/png": "[encoded data removed]",
      "text/plain": [
       "<matplotlib.figure.Figure at 0x1143b7d30>"
      ]
     },
     "metadata": {},
     "output_type": "display_data"
    }
   ],
   "source": [
    "plt.figure(figsize=(10, 6))\n",
    "lycee2015.groupby('Académie')['Taux Brut de Réussite Total séries'].mean().order(ascending=False).head(20).plot(kind='barh')\n",
    "plt.gca().invert_yaxis()\n"
   ]
  },
  {
   "cell_type": "markdown",
   "metadata": {},
   "source": [
    "## Lien entre les variations d'effectifs entre la seconde et la terminale et le taux de réussite au bac."
   ]
  },
  {
   "cell_type": "code",
   "execution_count": 6,
   "metadata": {
    "collapsed": false,
    "scrolled": true
   },
   "outputs": [
    {
     "data": {
      "text/html": [
       "<div>\n",
       "<table border=\"1\" class=\"dataframe\">\n",
       "  <thead>\n",
       "    <tr style=\"text-align: right;\">\n",
       "      <th></th>\n",
       "      <th>Effectif de seconde</th>\n",
       "      <th>Effectif de première</th>\n",
       "      <th>Effectif de terminale</th>\n",
       "      <th>Taux Brut de Réussite Total séries</th>\n",
       "    </tr>\n",
       "  </thead>\n",
       "  <tbody>\n",
       "    <tr>\n",
       "      <th>0</th>\n",
       "      <td>72</td>\n",
       "      <td>65</td>\n",
       "      <td>52</td>\n",
       "      <td>93</td>\n",
       "    </tr>\n",
       "    <tr>\n",
       "      <th>1</th>\n",
       "      <td>254</td>\n",
       "      <td>227</td>\n",
       "      <td>232</td>\n",
       "      <td>93</td>\n",
       "    </tr>\n",
       "  </tbody>\n",
       "</table>\n",
       "</div>"
      ],
      "text/plain": [
       "   Effectif de seconde  Effectif de première  Effectif de terminale  \\\n",
       "0                   72                    65                     52   \n",
       "1                  254                   227                    232   \n",
       "\n",
       "   Taux Brut de Réussite Total séries  \n",
       "0                                  93  \n",
       "1                                  93  "
      ]
     },
     "execution_count": 6,
     "metadata": {},
     "output_type": "execute_result"
    }
   ],
   "source": [
    "effectifs_cols = [\n",
    "    'Effectif de seconde',\n",
    "    'Effectif de première',\n",
    "    'Effectif de terminale']\n",
    "\n",
    "lycee2015.ix[:, effectifs_cols + ['Taux Brut de Réussite Total séries']].head(2)"
   ]
  },
  {
   "cell_type": "code",
   "execution_count": 7,
   "metadata": {
    "collapsed": false
   },
   "outputs": [
    {
     "data": {
      "text/html": [
       "<div>\n",
       "<table border=\"1\" class=\"dataframe\">\n",
       "  <thead>\n",
       "    <tr style=\"text-align: right;\">\n",
       "      <th></th>\n",
       "      <th>Effectif de seconde</th>\n",
       "      <th>Effectif de première</th>\n",
       "      <th>Effectif de terminale</th>\n",
       "      <th>variation_seconde_premiere</th>\n",
       "      <th>variation_seconde_terminale</th>\n",
       "      <th>variation_premiere_terminale</th>\n",
       "      <th>Taux Brut de Réussite Total séries</th>\n",
       "    </tr>\n",
       "  </thead>\n",
       "  <tbody>\n",
       "    <tr>\n",
       "      <th>0</th>\n",
       "      <td>72</td>\n",
       "      <td>65</td>\n",
       "      <td>52</td>\n",
       "      <td>-9.722222</td>\n",
       "      <td>-27.777778</td>\n",
       "      <td>-20.000000</td>\n",
       "      <td>93</td>\n",
       "    </tr>\n",
       "    <tr>\n",
       "      <th>1</th>\n",
       "      <td>254</td>\n",
       "      <td>227</td>\n",
       "      <td>232</td>\n",
       "      <td>-10.629921</td>\n",
       "      <td>-8.661417</td>\n",
       "      <td>2.202643</td>\n",
       "      <td>93</td>\n",
       "    </tr>\n",
       "    <tr>\n",
       "      <th>2</th>\n",
       "      <td>29</td>\n",
       "      <td>20</td>\n",
       "      <td>26</td>\n",
       "      <td>-31.034483</td>\n",
       "      <td>-10.344828</td>\n",
       "      <td>30.000000</td>\n",
       "      <td>94</td>\n",
       "    </tr>\n",
       "    <tr>\n",
       "      <th>3</th>\n",
       "      <td>172</td>\n",
       "      <td>174</td>\n",
       "      <td>182</td>\n",
       "      <td>1.162791</td>\n",
       "      <td>5.813953</td>\n",
       "      <td>4.597701</td>\n",
       "      <td>96</td>\n",
       "    </tr>\n",
       "  </tbody>\n",
       "</table>\n",
       "</div>"
      ],
      "text/plain": [
       "   Effectif de seconde  Effectif de première  Effectif de terminale  \\\n",
       "0                   72                    65                     52   \n",
       "1                  254                   227                    232   \n",
       "2                   29                    20                     26   \n",
       "3                  172                   174                    182   \n",
       "\n",
       "   variation_seconde_premiere  variation_seconde_terminale  \\\n",
       "0                   -9.722222                   -27.777778   \n",
       "1                  -10.629921                    -8.661417   \n",
       "2                  -31.034483                   -10.344828   \n",
       "3                    1.162791                     5.813953   \n",
       "\n",
       "   variation_premiere_terminale  Taux Brut de Réussite Total séries  \n",
       "0                    -20.000000                                  93  \n",
       "1                      2.202643                                  93  \n",
       "2                     30.000000                                  94  \n",
       "3                      4.597701                                  96  "
      ]
     },
     "execution_count": 7,
     "metadata": {},
     "output_type": "execute_result"
    }
   ],
   "source": [
    "variations_cols = [\n",
    "    'variation_seconde_premiere',\n",
    "    'variation_seconde_terminale',\n",
    "    'variation_premiere_terminale']\n",
    "\n",
    "lycee2015['variation_seconde_premiere'] = (lycee2015['Effectif de première'] / lycee2015['Effectif de seconde'] - 1) * 100\n",
    "lycee2015['variation_premiere_terminale'] = (lycee2015['Effectif de terminale'] / lycee2015['Effectif de première'] - 1) * 100\n",
    "lycee2015['variation_seconde_terminale'] = (lycee2015['Effectif de terminale'] / lycee2015['Effectif de seconde'] - 1) * 100\n",
    "\n",
    "lycee2015.ix[:, effectifs_cols + variations_cols + ['Taux Brut de Réussite Total séries']].head(4)"
   ]
  },
  {
   "cell_type": "code",
   "execution_count": 8,
   "metadata": {
    "collapsed": false
   },
   "outputs": [
    {
     "data": {
      "text/html": [
       "<div>\n",
       "<table border=\"1\" class=\"dataframe\">\n",
       "  <thead>\n",
       "    <tr style=\"text-align: right;\">\n",
       "      <th></th>\n",
       "      <th>variation_seconde_premiere</th>\n",
       "      <th>variation_seconde_terminale</th>\n",
       "      <th>variation_premiere_terminale</th>\n",
       "    </tr>\n",
       "  </thead>\n",
       "  <tbody>\n",
       "    <tr>\n",
       "      <th>count</th>\n",
       "      <td>2288.000000</td>\n",
       "      <td>2288.000000</td>\n",
       "      <td>2288.000000</td>\n",
       "    </tr>\n",
       "    <tr>\n",
       "      <th>mean</th>\n",
       "      <td>inf</td>\n",
       "      <td>inf</td>\n",
       "      <td>-1.612332</td>\n",
       "    </tr>\n",
       "    <tr>\n",
       "      <th>std</th>\n",
       "      <td>NaN</td>\n",
       "      <td>NaN</td>\n",
       "      <td>14.798240</td>\n",
       "    </tr>\n",
       "    <tr>\n",
       "      <th>min</th>\n",
       "      <td>-64.485981</td>\n",
       "      <td>-89.240506</td>\n",
       "      <td>-87.169811</td>\n",
       "    </tr>\n",
       "    <tr>\n",
       "      <th>25%</th>\n",
       "      <td>-21.061583</td>\n",
       "      <td>-24.794228</td>\n",
       "      <td>-9.677419</td>\n",
       "    </tr>\n",
       "    <tr>\n",
       "      <th>50%</th>\n",
       "      <td>-12.694384</td>\n",
       "      <td>-15.472426</td>\n",
       "      <td>-2.647150</td>\n",
       "    </tr>\n",
       "    <tr>\n",
       "      <th>75%</th>\n",
       "      <td>-2.996269</td>\n",
       "      <td>-4.468027</td>\n",
       "      <td>4.646898</td>\n",
       "    </tr>\n",
       "    <tr>\n",
       "      <th>max</th>\n",
       "      <td>inf</td>\n",
       "      <td>inf</td>\n",
       "      <td>113.333333</td>\n",
       "    </tr>\n",
       "  </tbody>\n",
       "</table>\n",
       "</div>"
      ],
      "text/plain": [
       "       variation_seconde_premiere  variation_seconde_terminale  \\\n",
       "count                 2288.000000                  2288.000000   \n",
       "mean                          inf                          inf   \n",
       "std                           NaN                          NaN   \n",
       "min                    -64.485981                   -89.240506   \n",
       "25%                    -21.061583                   -24.794228   \n",
       "50%                    -12.694384                   -15.472426   \n",
       "75%                     -2.996269                    -4.468027   \n",
       "max                           inf                          inf   \n",
       "\n",
       "       variation_premiere_terminale  \n",
       "count                   2288.000000  \n",
       "mean                      -1.612332  \n",
       "std                       14.798240  \n",
       "min                      -87.169811  \n",
       "25%                       -9.677419  \n",
       "50%                       -2.647150  \n",
       "75%                        4.646898  \n",
       "max                      113.333333  "
      ]
     },
     "execution_count": 8,
     "metadata": {},
     "output_type": "execute_result"
    }
   ],
   "source": [
    "lycee2015.ix[:, variations_cols].describe()"
   ]
  },
  {
   "cell_type": "markdown",
   "metadata": {},
   "source": [
    "Wow, il y a des variations d'effectifs gigantesques pour certains lycées."
   ]
  },
  {
   "cell_type": "code",
   "execution_count": 9,
   "metadata": {
    "collapsed": false,
    "scrolled": true
   },
   "outputs": [
    {
     "data": {
      "text/html": [
       "<div>\n",
       "<table border=\"1\" class=\"dataframe\">\n",
       "  <thead>\n",
       "    <tr style=\"text-align: right;\">\n",
       "      <th></th>\n",
       "      <th>Effectif de seconde</th>\n",
       "      <th>Effectif de première</th>\n",
       "      <th>Effectif de terminale</th>\n",
       "    </tr>\n",
       "  </thead>\n",
       "  <tbody>\n",
       "    <tr>\n",
       "      <th>884</th>\n",
       "      <td>0</td>\n",
       "      <td>27</td>\n",
       "      <td>17</td>\n",
       "    </tr>\n",
       "    <tr>\n",
       "      <th>954</th>\n",
       "      <td>0</td>\n",
       "      <td>62</td>\n",
       "      <td>69</td>\n",
       "    </tr>\n",
       "    <tr>\n",
       "      <th>1016</th>\n",
       "      <td>0</td>\n",
       "      <td>32</td>\n",
       "      <td>40</td>\n",
       "    </tr>\n",
       "    <tr>\n",
       "      <th>1026</th>\n",
       "      <td>0</td>\n",
       "      <td>32</td>\n",
       "      <td>29</td>\n",
       "    </tr>\n",
       "  </tbody>\n",
       "</table>\n",
       "</div>"
      ],
      "text/plain": [
       "      Effectif de seconde  Effectif de première  Effectif de terminale\n",
       "884                     0                    27                     17\n",
       "954                     0                    62                     69\n",
       "1016                    0                    32                     40\n",
       "1026                    0                    32                     29"
      ]
     },
     "execution_count": 9,
     "metadata": {},
     "output_type": "execute_result"
    }
   ],
   "source": [
    "lycee2015.loc[~np.isfinite(lycee2015.variation_seconde_terminale), effectifs_cols]"
   ]
  },
  {
   "cell_type": "code",
   "execution_count": 10,
   "metadata": {
    "collapsed": false
   },
   "outputs": [
    {
     "data": {
      "text/plain": [
       "2288"
      ]
     },
     "execution_count": 10,
     "metadata": {},
     "output_type": "execute_result"
    }
   ],
   "source": [
    "# Nombre de lycées français de l'échantillon (2015)\n",
    "len(lycee2015)"
   ]
  },
  {
   "cell_type": "code",
   "execution_count": 11,
   "metadata": {
    "collapsed": false
   },
   "outputs": [
    {
     "data": {
      "text/plain": [
       "<matplotlib.text.Text at 0x116b35710>"
      ]
     },
     "execution_count": 11,
     "metadata": {},
     "output_type": "execute_result"
    },
    {
     "data": {
      "image/png": "[encoded data removed]",
      "text/plain": [
       "<matplotlib.figure.Figure at 0x1143fd400>"
      ]
     },
     "metadata": {},
     "output_type": "display_data"
    }
   ],
   "source": [
    "no_outliers = (lycee2015.variation_premiere_terminale > -40) & (lycee2015.variation_premiere_terminale <= 20) & (lycee2015['Taux Brut de Réussite Total séries'] > 70)\n",
    "plt.figure(figsize=(10, 8))\n",
    "plt.scatter(\n",
    "    data=lycee2015.loc[no_outliers],\n",
    "    x='Taux Brut de Réussite Total séries',\n",
    "    y='variation_premiere_terminale',\n",
    "    alpha=0.1)\n",
    "plt.xlabel('Taux Brut de Réussite Total séries')\n",
    "plt.ylabel('variation effectif première terminale')"
   ]
  },
  {
   "cell_type": "markdown",
   "metadata": {},
   "source": [
    "On ne voit pas grand chose, regardons la corrélation de Pearson."
   ]
  },
  {
   "cell_type": "code",
   "execution_count": 12,
   "metadata": {
    "collapsed": false
   },
   "outputs": [
    {
     "data": {
      "text/html": [
       "<div>\n",
       "<table border=\"1\" class=\"dataframe\">\n",
       "  <thead>\n",
       "    <tr style=\"text-align: right;\">\n",
       "      <th></th>\n",
       "      <th>variation_seconde_premiere</th>\n",
       "      <th>variation_seconde_terminale</th>\n",
       "      <th>variation_premiere_terminale</th>\n",
       "      <th>Taux Brut de Réussite Total séries</th>\n",
       "    </tr>\n",
       "  </thead>\n",
       "  <tbody>\n",
       "    <tr>\n",
       "      <th>variation_seconde_premiere</th>\n",
       "      <td>1.000000</td>\n",
       "      <td>0.887268</td>\n",
       "      <td>-0.047128</td>\n",
       "      <td>0.072929</td>\n",
       "    </tr>\n",
       "    <tr>\n",
       "      <th>variation_seconde_terminale</th>\n",
       "      <td>0.887268</td>\n",
       "      <td>1.000000</td>\n",
       "      <td>0.382390</td>\n",
       "      <td>-0.033449</td>\n",
       "    </tr>\n",
       "    <tr>\n",
       "      <th>variation_premiere_terminale</th>\n",
       "      <td>-0.047128</td>\n",
       "      <td>0.382390</td>\n",
       "      <td>1.000000</td>\n",
       "      <td>-0.238636</td>\n",
       "    </tr>\n",
       "    <tr>\n",
       "      <th>Taux Brut de Réussite Total séries</th>\n",
       "      <td>0.072929</td>\n",
       "      <td>-0.033449</td>\n",
       "      <td>-0.238636</td>\n",
       "      <td>1.000000</td>\n",
       "    </tr>\n",
       "  </tbody>\n",
       "</table>\n",
       "</div>"
      ],
      "text/plain": [
       "                                    variation_seconde_premiere  \\\n",
       "variation_seconde_premiere                            1.000000   \n",
       "variation_seconde_terminale                           0.887268   \n",
       "variation_premiere_terminale                         -0.047128   \n",
       "Taux Brut de Réussite Total séries                    0.072929   \n",
       "\n",
       "                                    variation_seconde_terminale  \\\n",
       "variation_seconde_premiere                             0.887268   \n",
       "variation_seconde_terminale                            1.000000   \n",
       "variation_premiere_terminale                           0.382390   \n",
       "Taux Brut de Réussite Total séries                    -0.033449   \n",
       "\n",
       "                                    variation_premiere_terminale  \\\n",
       "variation_seconde_premiere                             -0.047128   \n",
       "variation_seconde_terminale                             0.382390   \n",
       "variation_premiere_terminale                            1.000000   \n",
       "Taux Brut de Réussite Total séries                     -0.238636   \n",
       "\n",
       "                                    Taux Brut de Réussite Total séries  \n",
       "variation_seconde_premiere                                    0.072929  \n",
       "variation_seconde_terminale                                  -0.033449  \n",
       "variation_premiere_terminale                                 -0.238636  \n",
       "Taux Brut de Réussite Total séries                            1.000000  "
      ]
     },
     "execution_count": 12,
     "metadata": {},
     "output_type": "execute_result"
    }
   ],
   "source": [
    "lycee2015.loc[:, variations_cols + ['Taux Brut de Réussite Total séries']].corr(method='pearson')"
   ]
  },
  {
   "cell_type": "markdown",
   "metadata": {},
   "source": [
    "Une corrélation de -0.24 entre le taux de réussite au BAC toutes séries confondues et variation d'effectif entre la première et la terminale. Not bad !\n",
    "\n",
    "Vérifions avec le package scipy.stats si la corrélation est significative (p-value < 1%)."
   ]
  },
  {
   "cell_type": "code",
   "execution_count": 13,
   "metadata": {
    "collapsed": false
   },
   "outputs": [
    {
     "data": {
      "text/plain": [
       "(-0.2386360451556859, 5.4476357727033271e-31)"
      ]
     },
     "execution_count": 13,
     "metadata": {},
     "output_type": "execute_result"
    }
   ],
   "source": [
    "pearsonr(lycee2015.variation_premiere_terminale, lycee2015['Taux Brut de Réussite Total séries'])"
   ]
  },
  {
   "cell_type": "markdown",
   "metadata": {},
   "source": [
    "## Conclusion\n",
    "\n",
    "La p-value est nettement inférieur au seuil arbitraire de 1%, on en déduit que la corrélation de -0.24 est bien significative.\n",
    "\n",
    "Ainsi, meilleur est le taux de réussite et plus il y a de lycées dont les effectifs sont réduits entre la première et la terminale."
   ]
  }
 ],
 "metadata": {
  "kernelspec": {
   "display_name": "Python 3",
   "language": "python",
   "name": "python3"
  },
  "language_info": {
   "codemirror_mode": {
    "name": "ipython",
    "version": 3
   },
   "file_extension": ".py",
   "mimetype": "text/x-python",
   "name": "python",
   "nbconvert_exporter": "python",
   "pygments_lexer": "ipython3",
   "version": "3.4.4"
  }
 },
 "nbformat": 4,
 "nbformat_minor": 0
}
